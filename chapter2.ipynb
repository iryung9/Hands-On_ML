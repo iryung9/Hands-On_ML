{
 "cells": [
  {
   "cell_type": "markdown",
   "metadata": {},
   "source": [
    "# shuffle과 permutation의 차이"
   ]
  },
  {
   "cell_type": "code",
   "execution_count": 1,
   "metadata": {},
   "outputs": [],
   "source": [
    "import numpy as np"
   ]
  },
  {
   "cell_type": "code",
   "execution_count": 2,
   "metadata": {},
   "outputs": [
    {
     "name": "stdout",
     "output_type": "stream",
     "text": [
      "[4 5 2 3 1]\n"
     ]
    }
   ],
   "source": [
    "a=[1,2,3,4,5]\n",
    "b=np.random.permutation(a)\n",
    "print(b)"
   ]
  },
  {
   "cell_type": "code",
   "execution_count": 3,
   "metadata": {
    "scrolled": true
   },
   "outputs": [
    {
     "name": "stdout",
     "output_type": "stream",
     "text": [
      "[1, 2, 3, 4, 5]\n"
     ]
    }
   ],
   "source": [
    "print(a)"
   ]
  },
  {
   "cell_type": "code",
   "execution_count": 4,
   "metadata": {
    "scrolled": true
   },
   "outputs": [
    {
     "name": "stdout",
     "output_type": "stream",
     "text": [
      "[3, 5, 1, 2, 4]\n"
     ]
    }
   ],
   "source": [
    "c=[1,2,3,4,5]\n",
    "np.random.shuffle(c)\n",
    "print(c)"
   ]
  },
  {
   "cell_type": "markdown",
   "metadata": {},
   "source": [
    "- permutation : 셔플 된 array를 만들어준다\n",
    "- shuffle : array를 셔플하여 반환한다"
   ]
  },
  {
   "cell_type": "markdown",
   "metadata": {},
   "source": [
    "# Case 2. 데이터의 고유 식별자로 구분"
   ]
  },
  {
   "cell_type": "markdown",
   "metadata": {},
   "source": [
    "#### crc32(np.int64(identifier))&0xffffffff<test_ratio*2**32 은 무슨 소리인가?"
   ]
  },
  {
   "cell_type": "markdown",
   "metadata": {},
   "source": [
    "### test_ratio * 2**32"
   ]
  },
  {
   "cell_type": "markdown",
   "metadata": {},
   "source": [
    "2^32 : 16진수에서 32비트로 표현할 수 있는 정수보다 1만큼 더 큰 수 <br>\n",
    "만약 0.2라면 0.2x2^32 = 51 이므로 부여한 인덱스가 51보다 낮은 데이터들을 테스트 셋으로 지정"
   ]
  },
  {
   "cell_type": "markdown",
   "metadata": {},
   "source": [
    "### np.int64(identifier)"
   ]
  },
  {
   "cell_type": "markdown",
   "metadata": {},
   "source": [
    "iedntifier : 각 데이터에서 index에 해당하는 정수(int) <br>\n",
    "해당 코드에서 이를 numpy.int64로 변환"
   ]
  },
  {
   "cell_type": "markdown",
   "metadata": {},
   "source": [
    "### crc32(np.int64(identifier))"
   ]
  },
  {
   "cell_type": "markdown",
   "metadata": {},
   "source": [
    "zlib.crc32.crc32() method : 파라미터로 넘겨받은 데이터로 CRC체크섬을 생성하는 해시함수<br>\n",
    "해당 코드에서는 numpy.int64 형태의 데이터를 받아 [0,2**32-1] 범위의 정수 해시값 생성<br>\n",
    "➔ 식별자 순서와 상관 없이 랜덤한 32bit의 정수 데이터를 얻게 됨<br>"
   ]
  },
  {
   "cell_type": "markdown",
   "metadata": {},
   "source": [
    "### crc32(np.int64(identifier))&0xffffffff"
   ]
  },
  {
   "cell_type": "markdown",
   "metadata": {},
   "source": [
    "파이썬 버전 2와의 호환성을 위해 추가된 코드<br>\n",
    "파이썬 3.0은 crc32에서 부호 없는 32비트 정수를 반환<br>\n",
    "파이썬 2.0은 crc32에서 부호를 가지는 32비트 정수 반환<br>\n",
    "➔ 부호 비트 처리를 위해 &0xffffffff연산 실행<br>"
   ]
  }
 ],
 "metadata": {
  "kernelspec": {
   "display_name": "Python 3",
   "language": "python",
   "name": "python3"
  },
  "language_info": {
   "codemirror_mode": {
    "name": "ipython",
    "version": 3
   },
   "file_extension": ".py",
   "mimetype": "text/x-python",
   "name": "python",
   "nbconvert_exporter": "python",
   "pygments_lexer": "ipython3",
   "version": "3.8.5"
  }
 },
 "nbformat": 4,
 "nbformat_minor": 4
}
